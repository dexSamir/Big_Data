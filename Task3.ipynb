{
 "cells": [
  {
   "cell_type": "code",
   "execution_count": 1,
   "id": "f23975b4",
   "metadata": {
    "tags": [
     "1) 5, 10, 15, 20 rəqəmlərindən ibarət \"rəqəmlər\" adlı list yaradın"
    ]
   },
   "outputs": [
    {
     "name": "stdout",
     "output_type": "stream",
     "text": [
      "[5, 10, 15, 20]\n"
     ]
    }
   ],
   "source": [
    "rəqəmlər = [5, 10, 15, 20]\n",
    "print(rəqəmlər)\n"
   ]
  },
  {
   "cell_type": "code",
   "execution_count": 2,
   "id": "7b0ca64c",
   "metadata": {
    "tags": [
     "2) \"rəqəmlər\" listinin uzunluğunu tapın"
    ]
   },
   "outputs": [
    {
     "name": "stdout",
     "output_type": "stream",
     "text": [
      "4\n"
     ]
    }
   ],
   "source": [
    "print(len(rəqəmlər))"
   ]
  },
  {
   "cell_type": "code",
   "execution_count": 3,
   "id": "75bd9435",
   "metadata": {
    "tags": [
     "3) \"rəqəmlər\" listinə 25 elementini əlavə edin"
    ]
   },
   "outputs": [
    {
     "name": "stdout",
     "output_type": "stream",
     "text": [
      "[5, 10, 15, 20, 25]\n"
     ]
    }
   ],
   "source": [
    "rəqəmlər.append(25)\n",
    "print(rəqəmlər)"
   ]
  },
  {
   "cell_type": "code",
   "execution_count": 4,
   "id": "f049684a",
   "metadata": {
    "tags": [
     "4) \"rəqəmlər\" listinin 2-ci indeksinə 12 elementini əlavə edin"
    ]
   },
   "outputs": [
    {
     "name": "stdout",
     "output_type": "stream",
     "text": [
      "[5, 10, 12, 15, 20, 25]\n"
     ]
    }
   ],
   "source": [
    "rəqəmlər.insert(2, 12)\n",
    "print(rəqəmlər)"
   ]
  },
  {
   "cell_type": "code",
   "execution_count": 6,
   "id": "56f80385",
   "metadata": {
    "tags": [
     "5) 1, 2, 3 və 4, 5, 6 listlərini birləşdirin"
    ]
   },
   "outputs": [
    {
     "name": "stdout",
     "output_type": "stream",
     "text": [
      "[1, 2, 3, 4, 5, 6]\n"
     ]
    }
   ],
   "source": [
    "list1 = [1, 2, 3]\n",
    "list2 = [4, 5, 6]\n",
    "a = list1 + list2\n",
    "print(a)"
   ]
  },
  {
   "cell_type": "code",
   "execution_count": 5,
   "id": "2bac9995",
   "metadata": {
    "tags": [
     "6) \"rəqəmlər\" listindən 2-ci və 3-cü elementləri seçin"
    ]
   },
   "outputs": [
    {
     "name": "stdout",
     "output_type": "stream",
     "text": [
      "[10, 12]\n"
     ]
    }
   ],
   "source": [
    "s = rəqəmlər[1:3]\n",
    "print(s)"
   ]
  },
  {
   "cell_type": "code",
   "execution_count": 7,
   "id": "3187eb01",
   "metadata": {
    "tags": [
     "7) \"rəqəmlər\" listinin ilk elementini 50 ilə əvəz edin"
    ]
   },
   "outputs": [
    {
     "name": "stdout",
     "output_type": "stream",
     "text": [
      "[50, 10, 12, 15, 20, 25]\n"
     ]
    }
   ],
   "source": [
    "rəqəmlər[0] = 50\n",
    "print(rəqəmlər)"
   ]
  },
  {
   "cell_type": "code",
   "execution_count": 8,
   "id": "40797b89",
   "metadata": {
    "tags": [
     "8) \"rəqəmlər\" listində 19 elementinin olub-olmadığını yoxlayın"
    ]
   },
   "outputs": [
    {
     "name": "stdout",
     "output_type": "stream",
     "text": [
      "False\n"
     ]
    }
   ],
   "source": [
    "print(19 in rəqəmlər)"
   ]
  },
  {
   "cell_type": "code",
   "execution_count": null,
   "id": "189ea6da",
   "metadata": {
    "tags": [
     "9) \"a\", \"b\", \"a\", \"c\" listində \"a\" elementinin neçə dəfə təkrarlandığını tapın"
    ]
   },
   "outputs": [
    {
     "name": "stdout",
     "output_type": "stream",
     "text": [
      "2\n"
     ]
    }
   ],
   "source": [
    "vowels = [\"a\", \"b\", \"a\", \"c\"]\n",
    "count = vowels.count(\"a\")\n",
    "print(count)"
   ]
  },
  {
   "cell_type": "code",
   "execution_count": 10,
   "id": "fd48547f",
   "metadata": {
    "tags": [
     "10) \"x\", \"y\", \"x\", \"z\" listindən \"x\" elementlərini silin"
    ]
   },
   "outputs": [
    {
     "name": "stdout",
     "output_type": "stream",
     "text": [
      "['y', 'z']\n"
     ]
    }
   ],
   "source": [
    "elements = [\"x\", \"y\", \"x\", \"z\"]\n",
    "elements = [e for e in elements if e != \"x\"]\n",
    "print(elements)"
   ]
  },
  {
   "cell_type": "code",
   "execution_count": 11,
   "id": "556514b2",
   "metadata": {
    "tags": [
     "11) 7, 2, 9, 1 listini azalan sırayla sıralayın"
    ]
   },
   "outputs": [
    {
     "name": "stdout",
     "output_type": "stream",
     "text": [
      "[9, 7, 2, 1]\n"
     ]
    }
   ],
   "source": [
    "numbers = [7, 2, 9, 1]\n",
    "numbers.sort(reverse=True)\n",
    "print(numbers)"
   ]
  },
  {
   "cell_type": "code",
   "execution_count": 12,
   "id": "1d9ba63f",
   "metadata": {
    "tags": [
     "12) \"rəqəmlər\" listindən 10-dan böyük elementləri seçin"
    ]
   },
   "outputs": [
    {
     "name": "stdout",
     "output_type": "stream",
     "text": [
      "[50, 12, 15, 20, 25]\n"
     ]
    }
   ],
   "source": [
    "a = [x for x in rəqəmlər if x > 10]\n",
    "print(a)"
   ]
  }
 ],
 "metadata": {
  "kernelspec": {
   "display_name": ".venv",
   "language": "python",
   "name": "python3"
  },
  "language_info": {
   "codemirror_mode": {
    "name": "ipython",
    "version": 3
   },
   "file_extension": ".py",
   "mimetype": "text/x-python",
   "name": "python",
   "nbconvert_exporter": "python",
   "pygments_lexer": "ipython3",
   "version": "3.12.1"
  }
 },
 "nbformat": 4,
 "nbformat_minor": 5
}
