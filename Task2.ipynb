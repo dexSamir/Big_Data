{
 "cells": [
  {
   "cell_type": "code",
   "execution_count": null,
   "id": "394a9312",
   "metadata": {
    "tags": [
     "1) s = \"Programming\" yaradın. Uzunluğunu və ilk simvolunu çap edin."
    ]
   },
   "outputs": [],
   "source": [
    "s = \"Programming\"\n",
    "print(len(s),s[0])"
   ]
  },
  {
   "cell_type": "code",
   "execution_count": null,
   "id": "905a793e",
   "metadata": {
    "tags": [
     "2) s1 = \"Hello\" və s2 = \"World\" yaradın. Onları boşluqla birləşdirin və nəticəni çap edin."
    ]
   },
   "outputs": [],
   "source": [
    "s1, s2 = \"Hello\", \"World\"\n",
    "combined = s1 + \" \" + s2\n",
    "print(combined)"
   ]
  },
  {
   "cell_type": "code",
   "execution_count": null,
   "id": "eab39dcf",
   "metadata": {
    "tags": [
     "3) text = \"Python\" yaradın. Son simvolunu çap edin."
    ]
   },
   "outputs": [],
   "source": [
    "text = \"Python\"\n",
    "print(text[-1])"
   ]
  },
  {
   "cell_type": "code",
   "execution_count": null,
   "id": "7fa9e4e6",
   "metadata": {
    "tags": [
     "4) s = \"Artificial\" yaradın. \"Art\" hissəsini ilə çıxarın və çap edin."
    ]
   },
   "outputs": [],
   "source": [
    "s = \"Artificial\"\n",
    "a = s[:3]\n",
    "print(a)"
   ]
  },
  {
   "cell_type": "code",
   "execution_count": 1,
   "id": "fcb0f71d",
   "metadata": {
    "tags": [
     "5) word = \"Code\" yaradın. Tərsinə çevirin və nəticəni çap edin."
    ]
   },
   "outputs": [
    {
     "name": "stdout",
     "output_type": "stream",
     "text": [
      "edoC\n"
     ]
    }
   ],
   "source": [
    "word = \"Code\"\n",
    "reversed_word = word[::-1]\n",
    "print(reversed_word)"
   ]
  },
  {
   "cell_type": "code",
   "execution_count": null,
   "id": "dfa39c5f",
   "metadata": {
    "tags": [
     "6) s = \"abcdefgh\" yaradın. Hər ikinci simvolu alın və çap edin."
    ]
   },
   "outputs": [],
   "source": [
    "s = \"abcdefgh\"\n",
    "a = s[::2]\n",
    "print(a)"
   ]
  },
  {
   "cell_type": "code",
   "execution_count": null,
   "id": "47e24d87",
   "metadata": {
    "tags": [
     "7) text = \"data\" yaradın. Onu bir sətrlik kodla böyük hərflərə və kiçik hərflərə çevirib çap edin."
    ]
   },
   "outputs": [],
   "source": [
    "text = \"data\"\n",
    "print(text.upper(),text.lower())"
   ]
  },
  {
   "cell_type": "code",
   "execution_count": null,
   "id": "3e4c933d",
   "metadata": {
    "tags": [
     "8) s = \"Python-R-Java\" yaradın. \"-\" ilə ayırın (split(\"-\")) və nəticəni çap edin."
    ]
   },
   "outputs": [],
   "source": [
    "s = \"Python-R-Java\"\n",
    "result = s.split(\"-\")\n",
    "print(result)"
   ]
  },
  {
   "cell_type": "code",
   "execution_count": 3,
   "id": "2acf6a5e",
   "metadata": {
    "tags": [
     "9) ad = \"Ayxan\" və yaş = 25 yaradın. f-string ilə \"Ayxan 25 yaşındadır\" çap edin."
    ]
   },
   "outputs": [
    {
     "name": "stdout",
     "output_type": "stream",
     "text": [
      "Ayxan 25 yaşındadır\n"
     ]
    }
   ],
   "source": [
    "ad, yaş = \"Ayxan\", 25\n",
    "print(f\"{ad} {yaş} yaşındadır\")"
   ]
  },
  {
   "cell_type": "code",
   "execution_count": null,
   "id": "14461722",
   "metadata": {
    "tags": [
     "10) s = \"salam-dunya\" yaradın. \"-\"ni boşluqla əvəz edin və nəticəni çap edin."
    ]
   },
   "outputs": [],
   "source": [
    "s = \"salam-dunya\"\n",
    "replaced = s.replace(\"-\", \" \")\n",
    "print(replaced)"
   ]
  }
 ],
 "metadata": {
  "kernelspec": {
   "display_name": ".venv",
   "language": "python",
   "name": "python3"
  },
  "language_info": {
   "codemirror_mode": {
    "name": "ipython",
    "version": 3
   },
   "file_extension": ".py",
   "mimetype": "text/x-python",
   "name": "python",
   "nbconvert_exporter": "python",
   "pygments_lexer": "ipython3",
   "version": "3.12.1"
  }
 },
 "nbformat": 4,
 "nbformat_minor": 5
}
