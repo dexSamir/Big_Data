{
 "cells": [
  {
   "cell_type": "code",
   "execution_count": 5,
   "id": "62cd1b77",
   "metadata": {
    "tags": [
     "1) 123 rəqəmini string/character ə çevirin və tipini yoxlayın."
    ]
   },
   "outputs": [
    {
     "name": "stdout",
     "output_type": "stream",
     "text": [
      "123 <class 'str'>\n"
     ]
    }
   ],
   "source": [
    "num = 123\n",
    "str_num = str(num)\n",
    "print(str_num, type(str_num))"
   ]
  },
  {
   "cell_type": "code",
   "execution_count": 6,
   "id": "bc77a0a9",
   "metadata": {
    "tags": [
     "2) 19.99 dəyərini tam ədədə çevirin və nəticəni çap edin."
    ]
   },
   "outputs": [
    {
     "name": "stdout",
     "output_type": "stream",
     "text": [
      "19\n"
     ]
    }
   ],
   "source": [
    "float_num = 19.99\n",
    "int_num = int(float_num)\n",
    "print(int_num)"
   ]
  },
  {
   "cell_type": "code",
   "execution_count": 7,
   "id": "32dec97e",
   "metadata": {
    "tags": [
     "3) \"500\" dəyərini numericə çevirin və 2-yə bölüb nəticəni çap edin."
    ]
   },
   "outputs": [
    {
     "name": "stdout",
     "output_type": "stream",
     "text": [
      "250.0\n"
     ]
    }
   ],
   "source": [
    "str_value = \"500\"\n",
    "num_value = int(str_value)\n",
    "result = num_value/2\n",
    "print(result)"
   ]
  },
  {
   "cell_type": "code",
   "execution_count": null,
   "id": "5fa3cdd6",
   "metadata": {
    "tags": [
     "4) a = 8 və b = 12 yaradın. a < b və a == b şərtlərini yoxlayın, nəticələri çap edin."
    ]
   },
   "outputs": [],
   "source": [
    "a, b = 8, 12\n",
    "print(a < b)\n",
    "print(a == b)"
   ]
  },
  {
   "cell_type": "code",
   "execution_count": 8,
   "id": "db7ee16d",
   "metadata": {
    "tags": [
     "5) x = 5, y = 10, z = 15 yaradın. (x < y) and (y < z) şərtini yoxlayın və nəticəni çap edin."
    ]
   },
   "outputs": [
    {
     "name": "stdout",
     "output_type": "stream",
     "text": [
      "True\n"
     ]
    }
   ],
   "source": [
    "x, y, z = 5, 10, 15\n",
    "condition = (x < y) and (y < z)\n",
    "print(condition)"
   ]
  },
  {
   "cell_type": "code",
   "execution_count": null,
   "id": "cf0118a1",
   "metadata": {
    "tags": [
     "6) 25-i 4-ə bölün. Tam bölmə, qalıq və adi bölmə nəticələrini çap edin."
    ]
   },
   "outputs": [
    {
     "name": "stdout",
     "output_type": "stream",
     "text": [
      "6\n",
      "1\n",
      "6.25\n"
     ]
    }
   ],
   "source": [
    "print(25 // 4)\n",
    "\n",
    "print(25 % 4)\n",
    "print(25 / 4)"
   ]
  },
  {
   "cell_type": "code",
   "execution_count": 10,
   "id": "4d220d23",
   "metadata": {
    "tags": [
     "7) 3-ü 4-cü dərəcəyə qaldırın və nəticəni çap edin."
    ]
   },
   "outputs": [
    {
     "name": "stdout",
     "output_type": "stream",
     "text": [
      "7) 3^4 = 81\n"
     ]
    }
   ],
   "source": [
    "result = 3 ** 4\n",
    "print(\"7) 3^4 =\", result)"
   ]
  },
  {
   "cell_type": "code",
   "execution_count": null,
   "id": "212009e1",
   "metadata": {
    "tags": [
     "8) qiymet = 75.5 yaradın. Onu tam ədədə çevirin və tipini yoxlayın."
    ]
   },
   "outputs": [],
   "source": [
    "qiymet = 75.5\n",
    "int_qiymet = int(qiymet)\n",
    "print(int_qiymet ,type(int_qiymet))"
   ]
  },
  {
   "cell_type": "code",
   "execution_count": null,
   "id": "4dc7dad0",
   "metadata": {
    "tags": [
     "9) n = 20 yaradın. (n > 10) or (n < 5) və (n > 15) and (n < 25) şərtlərini yoxlayın, nəticələri çap edin."
    ]
   },
   "outputs": [
    {
     "name": "stdout",
     "output_type": "stream",
     "text": [
      "9) (n > 10) or (n < 5): True\n",
      "   (n > 15) and (n < 25): True\n"
     ]
    }
   ],
   "source": [
    "n = 20\n",
    "condition1 = (n > 10) or (n < 5)\n",
    "condition2 = (n > 15) and (n < 25)\n",
    "print(condition1)\n",
    "print(condition2)"
   ]
  },
  {
   "cell_type": "code",
   "execution_count": 13,
   "id": "ddf85a07",
   "metadata": {
    "tags": [
     "10) \"42.8\" dəyərini əvvəl float-a, sonra tam ədədə çevirin və hər addımda tipi yoxlayın."
    ]
   },
   "outputs": [
    {
     "name": "stdout",
     "output_type": "stream",
     "text": [
      "42.8 <class 'float'>\n",
      "42 <class 'int'>\n"
     ]
    }
   ],
   "source": [
    "str_value = \"42.8\"\n",
    "float_value = float(str_value)\n",
    "print(float_value,type(float_value))\n",
    "int_value = int(float_value)\n",
    "print(int_value, type(int_value))"
   ]
  }
 ],
 "metadata": {
  "kernelspec": {
   "display_name": ".venv",
   "language": "python",
   "name": "python3"
  },
  "language_info": {
   "codemirror_mode": {
    "name": "ipython",
    "version": 3
   },
   "file_extension": ".py",
   "mimetype": "text/x-python",
   "name": "python",
   "nbconvert_exporter": "python",
   "pygments_lexer": "ipython3",
   "version": "3.12.1"
  }
 },
 "nbformat": 4,
 "nbformat_minor": 5
}
