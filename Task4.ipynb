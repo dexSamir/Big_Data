{
 "cells": [
  {
   "cell_type": "code",
   "execution_count": 4,
   "id": "ca3102c7",
   "metadata": {},
   "outputs": [],
   "source": [
    "import pandas as pd;\n",
    "import numpy as np;"
   ]
  },
  {
   "cell_type": "code",
   "execution_count": 7,
   "id": "a23c7b07",
   "metadata": {
    "tags": [
     "1) 10, 20, 30, 40 elementlərindən ibarət s1 adlı Series yaradın"
    ]
   },
   "outputs": [
    {
     "name": "stdout",
     "output_type": "stream",
     "text": [
      "0    10\n",
      "1    20\n",
      "2    30\n",
      "3    40\n",
      "dtype: int64\n"
     ]
    }
   ],
   "source": [
    "\n",
    "s1 = pd.Series([10, 20, 30, 40])\n",
    "print(s1)"
   ]
  },
  {
   "cell_type": "code",
   "execution_count": 8,
   "id": "75229e6a",
   "metadata": {
    "tags": [
     "2) s1-ə 'w', 'x', 'y', 'z' indekslərini təyin edin"
    ]
   },
   "outputs": [
    {
     "name": "stdout",
     "output_type": "stream",
     "text": [
      "w    10\n",
      "x    20\n",
      "y    30\n",
      "z    40\n",
      "dtype: int64\n"
     ]
    }
   ],
   "source": [
    "s1.index = ['w', 'x', 'y', 'z']\n",
    "print(s1)"
   ]
  },
  {
   "cell_type": "code",
   "execution_count": 9,
   "id": "229432c4",
   "metadata": {
    "tags": [
     "3) {'p': 5, 'q': 10, 'r': 15} dictionary-dən s2 adlı Series yaradın"
    ]
   },
   "outputs": [
    {
     "name": "stdout",
     "output_type": "stream",
     "text": [
      "p     5\n",
      "q    10\n",
      "r    15\n",
      "dtype: int64\n"
     ]
    }
   ],
   "source": [
    "s2 = pd.Series({'p': 5, 'q': 10, 'r': 15})\n",
    "print(s2)"
   ]
  },
  {
   "cell_type": "code",
   "execution_count": 10,
   "id": "18eece72",
   "metadata": {
    "tags": [
     "4) s2-dən 'q' indeksli elementi seçin"
    ]
   },
   "outputs": [
    {
     "name": "stdout",
     "output_type": "stream",
     "text": [
      "10\n"
     ]
    }
   ],
   "source": [
    "print(s2['q'])"
   ]
  },
  {
   "cell_type": "code",
   "execution_count": 12,
   "id": "a350c052",
   "metadata": {
    "tags": [
     " 5) s1-dən 25-dən böyük elementləri seçin"
    ]
   },
   "outputs": [
    {
     "name": "stdout",
     "output_type": "stream",
     "text": [
      "y    30\n",
      "z    40\n",
      "dtype: int64\n"
     ]
    }
   ],
   "source": [
    "print(s1[s1 > 25])"
   ]
  },
  {
   "cell_type": "code",
   "execution_count": 13,
   "id": "3730e832",
   "metadata": {
    "tags": [
     "6) s1-də 20-dən böyük elementləri 10-a bölün"
    ]
   },
   "outputs": [
    {
     "name": "stdout",
     "output_type": "stream",
     "text": [
      "w    10\n",
      "x    20\n",
      "y     3\n",
      "z     4\n",
      "dtype: int64\n"
     ]
    }
   ],
   "source": [
    "s1[s1 > 20] = s1[s1 > 20] / 10\n",
    "print(s1)"
   ]
  },
  {
   "cell_type": "code",
   "execution_count": 14,
   "id": "550f3d52",
   "metadata": {
    "tags": [
     "7) ((1, 2), (3, 4)) listindən df1 adlı DataFrame yaradın"
    ]
   },
   "outputs": [
    {
     "name": "stdout",
     "output_type": "stream",
     "text": [
      "   0  1\n",
      "0  1  2\n",
      "1  3  4\n"
     ]
    }
   ],
   "source": [
    "df1 = pd.DataFrame([[1, 2], [3, 4]])\n",
    "print(df1)"
   ]
  },
  {
   "cell_type": "code",
   "execution_count": 15,
   "id": "9b270965",
   "metadata": {
    "tags": [
     "8) df1-ə ('r1', 'r2') sətir və ('c1', 'c2') sütun adlarını təyin edin"
    ]
   },
   "outputs": [
    {
     "name": "stdout",
     "output_type": "stream",
     "text": [
      "    c1  c2\n",
      "r1   1   2\n",
      "r2   3   4\n"
     ]
    }
   ],
   "source": [
    "df1.index = ['r1', 'r2']\n",
    "df1.columns = ['c1', 'c2']\n",
    "print(df1)"
   ]
  },
  {
   "cell_type": "code",
   "execution_count": 16,
   "id": "2aa3f5b0",
   "metadata": {
    "tags": [
     "9) {'A': [1, 2], 'B': [3, 4]} dictionary-dən df2 yaradın"
    ]
   },
   "outputs": [
    {
     "name": "stdout",
     "output_type": "stream",
     "text": [
      "   A  B\n",
      "0  1  3\n",
      "1  2  4\n"
     ]
    }
   ],
   "source": [
    "df2 = pd.DataFrame({'A': [1, 2], 'B': [3, 4]})\n",
    "print(df2)"
   ]
  },
  {
   "cell_type": "code",
   "execution_count": 18,
   "id": "6767df42",
   "metadata": {
    "tags": [
     "10) df2-də 'A' sütunu 1-dən böyük olan sətirləri seçin"
    ]
   },
   "outputs": [
    {
     "name": "stdout",
     "output_type": "stream",
     "text": [
      "   A  B\n",
      "1  2  4\n"
     ]
    }
   ],
   "source": [
    "print(df2[df2['A'] > 1]) "
   ]
  }
 ],
 "metadata": {
  "kernelspec": {
   "display_name": ".venv",
   "language": "python",
   "name": "python3"
  },
  "language_info": {
   "codemirror_mode": {
    "name": "ipython",
    "version": 3
   },
   "file_extension": ".py",
   "mimetype": "text/x-python",
   "name": "python",
   "nbconvert_exporter": "python",
   "pygments_lexer": "ipython3",
   "version": "3.12.1"
  }
 },
 "nbformat": 4,
 "nbformat_minor": 5
}
